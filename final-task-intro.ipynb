{
 "metadata": {
  "language_info": {
   "codemirror_mode": {
    "name": "ipython",
    "version": 3
   },
   "file_extension": ".py",
   "mimetype": "text/x-python",
   "name": "python",
   "nbconvert_exporter": "python",
   "pygments_lexer": "ipython3",
   "version": 3
  },
  "orig_nbformat": 2
 },
 "nbformat": 4,
 "nbformat_minor": 2,
 "cells": [
  {
   "source": [
    "***Capstone Project- Battle of Neighborhoods***\n",
    "\n",
    "Opening a Spanish Restaurant in NY\n",
    "\n",
    "1. Intro\n",
    "\n",
    "NY city's demograpihcs show that it is a large and ethnically diverse metropolis. It is the larges city in the United States with a long history of internation immigration. NY was home to nearly 8.5M people in 2018, accounting for over the last decade, the city has been growing faster than the region. The NY region continues to be by far the leading metropolitan gateway for legal immigrant admitted into the United States.\n",
    "\n",
    "This final project explores the best locations for Spanish restaurants throughout the city of NY. Potentially the owner of the new Japanese restaurant can have great success and consistent profit. However, as with any business, openning a new restaurant requires serious considerations and is more complicated than it seems from the first glance. In particular, the location of the restaurant is one of the most important factors that will affect wheter it will have success or a failure. So our poject will attempt to answer the questions \"Where should the investor open a Spanish restaurant?\" and \"Where should I go if I want great Spanish food?.\n",
    "\n",
    "2. Business problem\n",
    "\n",
    "The objective of this Capstone project is to analyze and select the best locations in the city of NY to open a new spanish restaurant. Using Data Science methodology and instruments such as Data Analysus and visualization, this project aims to provide solutions to answer the business question: \"Where in the city of NY, should the investor open a Spanish restaurant?.\n",
    "\n",
    "3. Target\n",
    "\n",
    "This project is particularly useful to dev and incestor looking to open or invest in a spanish restaurant in NY. Overall, NY is a great place to open a restaurant with an ethnical cuisine. As NY is the most diverse city in the world. With its diverse culture, comes diversity in the food items. There are many restaurants in NY city, each belonging to different categories like Chinese, Indian, French. Why did decide to focus on Spanish cuisine in pur project? Now when the ideoa of a healthy lifestyle conquered the minds of people all over the country, Spanish restaurants became extremely popular, as they offer a healthy alternative to regular American eating habits.\n",
    "\n",
    "4. Data\n",
    "\n",
    "In order to answer the above questions, data on New York City neighborhoods, boroughs to include boundaries, latitude, longitude, restaurants, and restaurant ratings and tips are required.\n",
    "\n",
    "New York City data containing the neighborhoods and boroughs, latitudes, and longitudes will be obtained from the data source: https://cocl.us/new_york_dataset\n",
    "\n",
    "All data related to locations and quality of Italian restaurants will be obtained via the FourSquare API utilized via the Request library in Python.\n",
    "\n",
    "5. Methodology\n",
    "\n",
    "- Data will be collected from https://cocl.us/new_york_dataset and cleaned and processed into a dataframe.\n",
    "\n",
    "- FourSquare be used to locate all venues and then filtered by Japanese restaurants. Ratings, tips, and likes by users will be counted and added to the dataframe.\n",
    "\n",
    "- Data will be sorted based on rankings.\n",
    "\n",
    "- Finally, the data be will be visually assessed using graphing from Python libraries.\n",
    "\n",
    "6. Problem statement\n",
    "\n",
    "- What is / are the best location(s) for Spanish cuisine in New York City?\n",
    "\n",
    "- In what Neighborhood and/or borough should the investor open a Spanish restaurant to have the best chance of being successful?\n",
    "\n",
    "- Where would I go in New York City to have the best Spanish food?\n",
    "\n",
    "\n",
    "\n",
    "\n",
    "\n"
   ],
   "cell_type": "markdown",
   "metadata": {}
  }
 ]
}